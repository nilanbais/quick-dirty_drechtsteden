{
 "cells": [
  {
   "cell_type": "markdown",
   "id": "470e9493",
   "metadata": {},
   "source": [
    "## import packages"
   ]
  },
  {
   "cell_type": "code",
   "execution_count": 31,
   "id": "c7314581",
   "metadata": {},
   "outputs": [
    {
     "data": {
      "text/plain": [
       "True"
      ]
     },
     "execution_count": 31,
     "metadata": {},
     "output_type": "execute_result"
    }
   ],
   "source": [
    "import os\n",
    "from datetime import datetime\n",
    "import pandas as pd\n",
    "\n",
    "from pandas import DataFrame\n",
    "from typing import List\n",
    "\n",
    "from dotenv import load_dotenv\n",
    "\n",
    "load_dotenv()"
   ]
  },
  {
   "cell_type": "markdown",
   "id": "8ee39d9d",
   "metadata": {},
   "source": [
    "## Variables"
   ]
  },
  {
   "cell_type": "markdown",
   "id": "73ce6e46",
   "metadata": {},
   "source": [
    "### Env"
   ]
  },
  {
   "cell_type": "code",
   "execution_count": null,
   "id": "95648f31",
   "metadata": {},
   "outputs": [],
   "source": [
    "INPUT_FOLDER: str = os.getenv('INPUT_FOLDER_PATH')"
   ]
  },
  {
   "cell_type": "markdown",
   "id": "35ca4c9c",
   "metadata": {},
   "source": [
    "### other"
   ]
  },
  {
   "cell_type": "code",
   "execution_count": 19,
   "id": "2be9fa7d",
   "metadata": {},
   "outputs": [],
   "source": [
    "time_columns: list = ['System', 'Queue', 'Ring', 'Talk', 'Hold', 'ACW', 'Consult', 'Disposition', 'Duration']\n",
    "vdn_flow_columns: list = ['1', '2', '3', '4', '5', '6', '7', '8', '9']\n",
    "call_work_codes_columns: list = ['1.1', '2.1', '3.1', '4.1', '5.1']"
   ]
  },
  {
   "cell_type": "markdown",
   "id": "ae264f6a",
   "metadata": {},
   "source": [
    "## Functions"
   ]
  },
  {
   "cell_type": "code",
   "execution_count": null,
   "id": "c1d2b966",
   "metadata": {},
   "outputs": [],
   "source": [
    "def summarize_unused_columns(dataset_column_index: pd.core.indexes.base.Index) -> List[str]:\n",
    "   \"\"\"\n",
    "   \n",
    "   \"\"\"\n",
    "   unused_column_names: List[str] = [col_name for col_name in dataset_column_index if 'unnamed' in str(col_name).lower()]\n",
    "   return unused_column_names"
   ]
  },
  {
   "cell_type": "code",
   "execution_count": 15,
   "id": "8ff4e3e0",
   "metadata": {},
   "outputs": [],
   "source": [
    "def filter_unused_columns(dataset: DataFrame) -> DataFrame:\n",
    "    \"\"\"\n",
    "    \n",
    "    \"\"\"\n",
    "    input_dataset: DataFrame = dataset.copy()\n",
    "    unused_column_names: List[str] = summarize_unused_columns(dataset.columns)\n",
    "    clean_df: DataFrame = input_dataset.drop(labels=unused_column_names, axis='columns')\n",
    "    return clean_df"
   ]
  },
  {
   "cell_type": "markdown",
   "id": "302bcb6e",
   "metadata": {},
   "source": [
    "## core logic"
   ]
  },
  {
   "cell_type": "code",
   "execution_count": 7,
   "id": "a5f55b07",
   "metadata": {},
   "outputs": [
    {
     "data": {
      "text/html": [
       "<div>\n",
       "<style scoped>\n",
       "    .dataframe tbody tr th:only-of-type {\n",
       "        vertical-align: middle;\n",
       "    }\n",
       "\n",
       "    .dataframe tbody tr th {\n",
       "        vertical-align: top;\n",
       "    }\n",
       "\n",
       "    .dataframe thead th {\n",
       "        text-align: right;\n",
       "    }\n",
       "</style>\n",
       "<table border=\"1\" class=\"dataframe\">\n",
       "  <thead>\n",
       "    <tr style=\"text-align: right;\">\n",
       "      <th></th>\n",
       "      <th>Unnamed: 0</th>\n",
       "      <th>CallId</th>\n",
       "      <th>Segment</th>\n",
       "      <th>Start</th>\n",
       "      <th>Stop</th>\n",
       "      <th>Calling Party</th>\n",
       "      <th>Trunk Group</th>\n",
       "      <th>Dialed Number</th>\n",
       "      <th>Answered Agent</th>\n",
       "      <th>Original Agent</th>\n",
       "      <th>...</th>\n",
       "      <th>Unnamed: 73</th>\n",
       "      <th>Unnamed: 74</th>\n",
       "      <th>Unnamed: 75</th>\n",
       "      <th>Unnamed: 76</th>\n",
       "      <th>Unnamed: 77</th>\n",
       "      <th>1.1</th>\n",
       "      <th>2.1</th>\n",
       "      <th>3.1</th>\n",
       "      <th>4.1</th>\n",
       "      <th>5.1</th>\n",
       "    </tr>\n",
       "  </thead>\n",
       "  <tbody>\n",
       "    <tr>\n",
       "      <th>0</th>\n",
       "      <td>NaN</td>\n",
       "      <td>582539</td>\n",
       "      <td>1</td>\n",
       "      <td>2025-05-06 08:00:33</td>\n",
       "      <td>2025-05-06 08:12:07</td>\n",
       "      <td>2807 (Astrid Nederlof)</td>\n",
       "      <td>NaN</td>\n",
       "      <td>8008 (SGD Serviceloket)</td>\n",
       "      <td>95120 (Laurens Brand)</td>\n",
       "      <td>NaN</td>\n",
       "      <td>...</td>\n",
       "      <td>NaN</td>\n",
       "      <td>NaN</td>\n",
       "      <td>NaN</td>\n",
       "      <td>NaN</td>\n",
       "      <td>NaN</td>\n",
       "      <td>NaN</td>\n",
       "      <td>NaN</td>\n",
       "      <td>NaN</td>\n",
       "      <td>NaN</td>\n",
       "      <td>NaN</td>\n",
       "    </tr>\n",
       "    <tr>\n",
       "      <th>1</th>\n",
       "      <td>NaN</td>\n",
       "      <td>582524</td>\n",
       "      <td>1</td>\n",
       "      <td>2025-05-06 08:01:02</td>\n",
       "      <td>2025-05-06 08:05:02</td>\n",
       "      <td>0620485126</td>\n",
       "      <td>101 (Vodafone01)</td>\n",
       "      <td>8008 (SGD Serviceloket)</td>\n",
       "      <td>95121 (Jordy Cruz)</td>\n",
       "      <td>NaN</td>\n",
       "      <td>...</td>\n",
       "      <td>NaN</td>\n",
       "      <td>NaN</td>\n",
       "      <td>NaN</td>\n",
       "      <td>NaN</td>\n",
       "      <td>NaN</td>\n",
       "      <td>NaN</td>\n",
       "      <td>NaN</td>\n",
       "      <td>NaN</td>\n",
       "      <td>NaN</td>\n",
       "      <td>NaN</td>\n",
       "    </tr>\n",
       "    <tr>\n",
       "      <th>2</th>\n",
       "      <td>NaN</td>\n",
       "      <td>582547</td>\n",
       "      <td>1</td>\n",
       "      <td>2025-05-06 08:04:04</td>\n",
       "      <td>2025-05-06 08:16:12</td>\n",
       "      <td>7114 (Prya Bhola)</td>\n",
       "      <td>NaN</td>\n",
       "      <td>8008 (SGD Serviceloket)</td>\n",
       "      <td>95022 (Yamani Mondt)</td>\n",
       "      <td>NaN</td>\n",
       "      <td>...</td>\n",
       "      <td>NaN</td>\n",
       "      <td>NaN</td>\n",
       "      <td>NaN</td>\n",
       "      <td>NaN</td>\n",
       "      <td>NaN</td>\n",
       "      <td>NaN</td>\n",
       "      <td>NaN</td>\n",
       "      <td>NaN</td>\n",
       "      <td>NaN</td>\n",
       "      <td>NaN</td>\n",
       "    </tr>\n",
       "    <tr>\n",
       "      <th>3</th>\n",
       "      <td>NaN</td>\n",
       "      <td>582561</td>\n",
       "      <td>1</td>\n",
       "      <td>2025-05-06 08:04:46</td>\n",
       "      <td>2025-05-06 08:22:13</td>\n",
       "      <td>NaN</td>\n",
       "      <td>NaN</td>\n",
       "      <td>8008 (SGD Serviceloket)</td>\n",
       "      <td>95121 (Jordy Cruz)</td>\n",
       "      <td>NaN</td>\n",
       "      <td>...</td>\n",
       "      <td>NaN</td>\n",
       "      <td>NaN</td>\n",
       "      <td>NaN</td>\n",
       "      <td>NaN</td>\n",
       "      <td>NaN</td>\n",
       "      <td>NaN</td>\n",
       "      <td>NaN</td>\n",
       "      <td>NaN</td>\n",
       "      <td>NaN</td>\n",
       "      <td>NaN</td>\n",
       "    </tr>\n",
       "    <tr>\n",
       "      <th>4</th>\n",
       "      <td>NaN</td>\n",
       "      <td>582544</td>\n",
       "      <td>1</td>\n",
       "      <td>2025-05-06 08:05:10</td>\n",
       "      <td>2025-05-06 08:14:30</td>\n",
       "      <td>0639621473</td>\n",
       "      <td>101 (Vodafone01)</td>\n",
       "      <td>8008 (SGD Serviceloket)</td>\n",
       "      <td>95120 (Laurens Brand)</td>\n",
       "      <td>NaN</td>\n",
       "      <td>...</td>\n",
       "      <td>NaN</td>\n",
       "      <td>NaN</td>\n",
       "      <td>NaN</td>\n",
       "      <td>NaN</td>\n",
       "      <td>NaN</td>\n",
       "      <td>NaN</td>\n",
       "      <td>NaN</td>\n",
       "      <td>NaN</td>\n",
       "      <td>NaN</td>\n",
       "      <td>NaN</td>\n",
       "    </tr>\n",
       "  </tbody>\n",
       "</table>\n",
       "<p>5 rows × 83 columns</p>\n",
       "</div>"
      ],
      "text/plain": [
       "   Unnamed: 0  CallId  Segment                Start                 Stop  \\\n",
       "0         NaN  582539        1  2025-05-06 08:00:33  2025-05-06 08:12:07   \n",
       "1         NaN  582524        1  2025-05-06 08:01:02  2025-05-06 08:05:02   \n",
       "2         NaN  582547        1  2025-05-06 08:04:04  2025-05-06 08:16:12   \n",
       "3         NaN  582561        1  2025-05-06 08:04:46  2025-05-06 08:22:13   \n",
       "4         NaN  582544        1  2025-05-06 08:05:10  2025-05-06 08:14:30   \n",
       "\n",
       "            Calling Party       Trunk Group            Dialed Number  \\\n",
       "0  2807 (Astrid Nederlof)               NaN  8008 (SGD Serviceloket)   \n",
       "1              0620485126  101 (Vodafone01)  8008 (SGD Serviceloket)   \n",
       "2       7114 (Prya Bhola)               NaN  8008 (SGD Serviceloket)   \n",
       "3                     NaN               NaN  8008 (SGD Serviceloket)   \n",
       "4              0639621473  101 (Vodafone01)  8008 (SGD Serviceloket)   \n",
       "\n",
       "          Answered Agent Original Agent  ... Unnamed: 73 Unnamed: 74  \\\n",
       "0  95120 (Laurens Brand)            NaN  ...         NaN         NaN   \n",
       "1     95121 (Jordy Cruz)            NaN  ...         NaN         NaN   \n",
       "2   95022 (Yamani Mondt)            NaN  ...         NaN         NaN   \n",
       "3     95121 (Jordy Cruz)            NaN  ...         NaN         NaN   \n",
       "4  95120 (Laurens Brand)            NaN  ...         NaN         NaN   \n",
       "\n",
       "   Unnamed: 75 Unnamed: 76  Unnamed: 77  1.1  2.1  3.1  4.1  5.1  \n",
       "0          NaN         NaN          NaN  NaN  NaN  NaN  NaN  NaN  \n",
       "1          NaN         NaN          NaN  NaN  NaN  NaN  NaN  NaN  \n",
       "2          NaN         NaN          NaN  NaN  NaN  NaN  NaN  NaN  \n",
       "3          NaN         NaN          NaN  NaN  NaN  NaN  NaN  NaN  \n",
       "4          NaN         NaN          NaN  NaN  NaN  NaN  NaN  NaN  \n",
       "\n",
       "[5 rows x 83 columns]"
      ]
     },
     "execution_count": 7,
     "metadata": {},
     "output_type": "execute_result"
    }
   ],
   "source": [
    "test_df: DataFrame = pd.read_excel(os.path.join(INPUT_FOLDER, 'Week 1 -Mei.xlsx'), header=1)\n",
    "test_df.head()"
   ]
  },
  {
   "cell_type": "code",
   "execution_count": 25,
   "id": "c5c5df83",
   "metadata": {},
   "outputs": [
    {
     "data": {
      "text/plain": [
       "Index([          'CallId',          'Segment',            'Start',\n",
       "                   'Stop',    'Calling Party',      'Trunk Group',\n",
       "          'Dialed Number',   'Answered Agent',   'Original Agent',\n",
       "       'Call Disposition',           'Vector',         'Priority',\n",
       "                  'Split',            'Level',           'System',\n",
       "                  'Queue',             'Ring',             'Talk',\n",
       "                   'Hold',              'ACW',          'Consult',\n",
       "            'Disposition',         'Duration',                  1,\n",
       "                        2,                  3,                  4,\n",
       "                        5,                  6,                  7,\n",
       "                        8,                  9,              '1.1',\n",
       "                    '2.1',              '3.1',              '4.1',\n",
       "                    '5.1'],\n",
       "      dtype='object')"
      ]
     },
     "execution_count": 25,
     "metadata": {},
     "output_type": "execute_result"
    }
   ],
   "source": [
    "test_df = filter_unused_columns(dataset=test_df)\n",
    "test_df.columns"
   ]
  },
  {
   "cell_type": "code",
   "execution_count": 32,
   "id": "3b7d9571",
   "metadata": {},
   "outputs": [
    {
     "name": "stdout",
     "output_type": "stream",
     "text": [
      "2025-05-06 08:00:33 <class 'str'>\n"
     ]
    }
   ],
   "source": [
    "test_value = test_df[\"Start\"][0]\n",
    "print(test_value, type(test_value))"
   ]
  },
  {
   "cell_type": "code",
   "execution_count": 33,
   "id": "6d6a8fb5",
   "metadata": {},
   "outputs": [],
   "source": [
    "def set_datetime_dtype_values(dataset: DataFrame, columns: List[str]) -> DataFrame:\n",
    "    for col_name in columns:\n",
    "        dataset[col_name] = dataset[col_name].map(lambda str_value: datetime.strptime(str_value, \"%Y-%m-%d %H:%M:%S\"))\n",
    "\n",
    "    return dataset"
   ]
  },
  {
   "cell_type": "code",
   "execution_count": 34,
   "id": "ac48c0f5",
   "metadata": {},
   "outputs": [],
   "source": [
    "test_df = set_datetime_dtype_values(test_df, columns=['Start'])"
   ]
  },
  {
   "cell_type": "code",
   "execution_count": 35,
   "id": "081488dc",
   "metadata": {},
   "outputs": [
    {
     "name": "stdout",
     "output_type": "stream",
     "text": [
      "2025-05-06 08:00:33 <class 'pandas._libs.tslibs.timestamps.Timestamp'>\n"
     ]
    }
   ],
   "source": [
    "test_value = test_df[\"Start\"][0]\n",
    "print(test_value, type(test_value))"
   ]
  }
 ],
 "metadata": {
  "kernelspec": {
   "display_name": "Python 3",
   "language": "python",
   "name": "python3"
  },
  "language_info": {
   "codemirror_mode": {
    "name": "ipython",
    "version": 3
   },
   "file_extension": ".py",
   "mimetype": "text/x-python",
   "name": "python",
   "nbconvert_exporter": "python",
   "pygments_lexer": "ipython3",
   "version": "3.12.10"
  }
 },
 "nbformat": 4,
 "nbformat_minor": 5
}

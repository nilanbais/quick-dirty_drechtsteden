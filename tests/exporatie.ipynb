{
 "cells": [
  {
   "cell_type": "markdown",
   "id": "470e9493",
   "metadata": {},
   "source": [
    "## import packages"
   ]
  },
  {
   "cell_type": "code",
   "execution_count": 24,
   "id": "c7314581",
   "metadata": {},
   "outputs": [
    {
     "data": {
      "text/plain": [
       "True"
      ]
     },
     "execution_count": 24,
     "metadata": {},
     "output_type": "execute_result"
    }
   ],
   "source": [
    "import os\n",
    "from datetime import datetime, timedelta\n",
    "import pandas as pd\n",
    "\n",
    "from pandas import DataFrame, Series\n",
    "from typing import List\n",
    "\n",
    "from dotenv import load_dotenv\n",
    "\n",
    "load_dotenv()"
   ]
  },
  {
   "cell_type": "markdown",
   "id": "8ee39d9d",
   "metadata": {},
   "source": [
    "## Variables"
   ]
  },
  {
   "cell_type": "markdown",
   "id": "73ce6e46",
   "metadata": {},
   "source": [
    "### Env"
   ]
  },
  {
   "cell_type": "code",
   "execution_count": 25,
   "id": "95648f31",
   "metadata": {},
   "outputs": [],
   "source": [
    "INPUT_FOLDER: str = os.getenv('INPUT_FOLDER_PATH')"
   ]
  },
  {
   "cell_type": "markdown",
   "id": "35ca4c9c",
   "metadata": {},
   "source": [
    "### other"
   ]
  },
  {
   "cell_type": "code",
   "execution_count": 26,
   "id": "2be9fa7d",
   "metadata": {},
   "outputs": [],
   "source": [
    "time_columns: list = ['System', 'Queue', 'Ring', 'Talk', 'Hold', 'ACW', 'Consult', 'Disposition', 'Duration']\n",
    "vdn_flow_columns: list = ['1', '2', '3', '4', '5', '6', '7', '8', '9']\n",
    "call_work_codes_columns: list = ['1.1', '2.1', '3.1', '4.1', '5.1']"
   ]
  },
  {
   "cell_type": "markdown",
   "id": "ae264f6a",
   "metadata": {},
   "source": [
    "## Functions"
   ]
  },
  {
   "cell_type": "markdown",
   "id": "da4834b2",
   "metadata": {},
   "source": [
    "### summarize_unused_columns"
   ]
  },
  {
   "cell_type": "code",
   "execution_count": 27,
   "id": "c1d2b966",
   "metadata": {},
   "outputs": [],
   "source": [
    "def summarize_unused_columns(dataset_column_index: pd.core.indexes.base.Index) -> List[str]:\n",
    "   \"\"\"\n",
    "   \n",
    "   \"\"\"\n",
    "   unused_column_names: List[str] = [col_name for col_name in dataset_column_index if 'unnamed' in str(col_name).lower()]\n",
    "   return unused_column_names"
   ]
  },
  {
   "cell_type": "markdown",
   "id": "8c9b0f54",
   "metadata": {},
   "source": [
    "### filter_unused_columns"
   ]
  },
  {
   "cell_type": "code",
   "execution_count": 28,
   "id": "8ff4e3e0",
   "metadata": {},
   "outputs": [],
   "source": [
    "def filter_unused_columns(dataset: DataFrame) -> DataFrame:\n",
    "    \"\"\"\n",
    "    \n",
    "    \"\"\"\n",
    "    input_dataset: DataFrame = dataset.copy()\n",
    "    unused_column_names: List[str] = summarize_unused_columns(dataset.columns)\n",
    "    clean_df: DataFrame = input_dataset.drop(labels=unused_column_names, axis='columns')\n",
    "    return clean_df"
   ]
  },
  {
   "cell_type": "markdown",
   "id": "3753f29f",
   "metadata": {},
   "source": [
    "### set_datetime_dtype_values"
   ]
  },
  {
   "cell_type": "code",
   "execution_count": 29,
   "id": "6d6a8fb5",
   "metadata": {},
   "outputs": [],
   "source": [
    "def set_datetime_dtype_values(dataset: DataFrame, columns: List[str]) -> DataFrame:\n",
    "    \"\"\"\n",
    "    \n",
    "    \"\"\"\n",
    "    for col_name in columns:\n",
    "        dataset[col_name] = dataset[col_name].map(lambda str_value: datetime.strptime(str_value, \"%Y-%m-%d %H:%M:%S\"))\n",
    "\n",
    "    return dataset"
   ]
  },
  {
   "cell_type": "markdown",
   "id": "09d72b49",
   "metadata": {},
   "source": [
    "### timedelta_from_string"
   ]
  },
  {
   "cell_type": "code",
   "execution_count": 30,
   "id": "74bb728d",
   "metadata": {},
   "outputs": [],
   "source": [
    "def timedelta_from_string(timestring: str) -> timedelta:\n",
    "    \"\"\"\n",
    "    \n",
    "    \"\"\"\n",
    "    time_obj = datetime.strptime(timestring,\"%H:%M:%S\")\n",
    "    timedelta_obj: timedelta = timedelta(hours=time_obj.hour, minutes=time_obj.minute, seconds=time_obj.second)\n",
    "    return timedelta_obj"
   ]
  },
  {
   "cell_type": "markdown",
   "id": "7856309c",
   "metadata": {},
   "source": [
    "### timestring_to_seconds"
   ]
  },
  {
   "cell_type": "code",
   "execution_count": 31,
   "id": "77295c18",
   "metadata": {},
   "outputs": [],
   "source": [
    "def timestring_to_seconds(dataset: DataFrame, columns: List[str]) -> DataFrame:\n",
    "    \"\"\"\n",
    "    \n",
    "    \"\"\"\n",
    "    for col_name in columns:\n",
    "        dataset[col_name] = dataset[col_name].map(lambda timestring: timedelta_from_string(timestring))\n",
    "\n",
    "    return dataset"
   ]
  },
  {
   "cell_type": "markdown",
   "id": "1063540e",
   "metadata": {},
   "source": [
    "### get_avg_time"
   ]
  },
  {
   "cell_type": "code",
   "execution_count": 32,
   "id": "ff5a036b",
   "metadata": {},
   "outputs": [],
   "source": [
    "def get_avg_time(dataset: DataFrame, columns: List[str]) -> timedelta:\n",
    "    \"\"\"\n",
    "    \n",
    "    \"\"\"\n",
    "    subset: DataFrame = dataset[columns].copy()\n",
    "    subset['row_sum'] = subset.sum(axis='columns')\n",
    "    average: timedelta = subset['row_sum'].mean()\n",
    "    return average"
   ]
  },
  {
   "cell_type": "markdown",
   "id": "302bcb6e",
   "metadata": {},
   "source": [
    "## core logic"
   ]
  },
  {
   "cell_type": "markdown",
   "id": "d3d00bd1",
   "metadata": {},
   "source": [
    "### test read"
   ]
  },
  {
   "cell_type": "code",
   "execution_count": 33,
   "id": "a5f55b07",
   "metadata": {},
   "outputs": [
    {
     "data": {
      "text/html": [
       "<div>\n",
       "<style scoped>\n",
       "    .dataframe tbody tr th:only-of-type {\n",
       "        vertical-align: middle;\n",
       "    }\n",
       "\n",
       "    .dataframe tbody tr th {\n",
       "        vertical-align: top;\n",
       "    }\n",
       "\n",
       "    .dataframe thead th {\n",
       "        text-align: right;\n",
       "    }\n",
       "</style>\n",
       "<table border=\"1\" class=\"dataframe\">\n",
       "  <thead>\n",
       "    <tr style=\"text-align: right;\">\n",
       "      <th></th>\n",
       "      <th>Unnamed: 0</th>\n",
       "      <th>CallId</th>\n",
       "      <th>Segment</th>\n",
       "      <th>Start</th>\n",
       "      <th>Stop</th>\n",
       "      <th>Calling Party</th>\n",
       "      <th>Trunk Group</th>\n",
       "      <th>Dialed Number</th>\n",
       "      <th>Answered Agent</th>\n",
       "      <th>Original Agent</th>\n",
       "      <th>...</th>\n",
       "      <th>Unnamed: 73</th>\n",
       "      <th>Unnamed: 74</th>\n",
       "      <th>Unnamed: 75</th>\n",
       "      <th>Unnamed: 76</th>\n",
       "      <th>Unnamed: 77</th>\n",
       "      <th>1.1</th>\n",
       "      <th>2.1</th>\n",
       "      <th>3.1</th>\n",
       "      <th>4.1</th>\n",
       "      <th>5.1</th>\n",
       "    </tr>\n",
       "  </thead>\n",
       "  <tbody>\n",
       "    <tr>\n",
       "      <th>0</th>\n",
       "      <td>NaN</td>\n",
       "      <td>582539</td>\n",
       "      <td>1</td>\n",
       "      <td>2025-05-06 08:00:33</td>\n",
       "      <td>2025-05-06 08:12:07</td>\n",
       "      <td>2807 (Astrid Nederlof)</td>\n",
       "      <td>NaN</td>\n",
       "      <td>8008 (SGD Serviceloket)</td>\n",
       "      <td>95120 (Laurens Brand)</td>\n",
       "      <td>NaN</td>\n",
       "      <td>...</td>\n",
       "      <td>NaN</td>\n",
       "      <td>NaN</td>\n",
       "      <td>NaN</td>\n",
       "      <td>NaN</td>\n",
       "      <td>NaN</td>\n",
       "      <td>NaN</td>\n",
       "      <td>NaN</td>\n",
       "      <td>NaN</td>\n",
       "      <td>NaN</td>\n",
       "      <td>NaN</td>\n",
       "    </tr>\n",
       "    <tr>\n",
       "      <th>1</th>\n",
       "      <td>NaN</td>\n",
       "      <td>582524</td>\n",
       "      <td>1</td>\n",
       "      <td>2025-05-06 08:01:02</td>\n",
       "      <td>2025-05-06 08:05:02</td>\n",
       "      <td>0620485126</td>\n",
       "      <td>101 (Vodafone01)</td>\n",
       "      <td>8008 (SGD Serviceloket)</td>\n",
       "      <td>95121 (Jordy Cruz)</td>\n",
       "      <td>NaN</td>\n",
       "      <td>...</td>\n",
       "      <td>NaN</td>\n",
       "      <td>NaN</td>\n",
       "      <td>NaN</td>\n",
       "      <td>NaN</td>\n",
       "      <td>NaN</td>\n",
       "      <td>NaN</td>\n",
       "      <td>NaN</td>\n",
       "      <td>NaN</td>\n",
       "      <td>NaN</td>\n",
       "      <td>NaN</td>\n",
       "    </tr>\n",
       "    <tr>\n",
       "      <th>2</th>\n",
       "      <td>NaN</td>\n",
       "      <td>582547</td>\n",
       "      <td>1</td>\n",
       "      <td>2025-05-06 08:04:04</td>\n",
       "      <td>2025-05-06 08:16:12</td>\n",
       "      <td>7114 (Prya Bhola)</td>\n",
       "      <td>NaN</td>\n",
       "      <td>8008 (SGD Serviceloket)</td>\n",
       "      <td>95022 (Yamani Mondt)</td>\n",
       "      <td>NaN</td>\n",
       "      <td>...</td>\n",
       "      <td>NaN</td>\n",
       "      <td>NaN</td>\n",
       "      <td>NaN</td>\n",
       "      <td>NaN</td>\n",
       "      <td>NaN</td>\n",
       "      <td>NaN</td>\n",
       "      <td>NaN</td>\n",
       "      <td>NaN</td>\n",
       "      <td>NaN</td>\n",
       "      <td>NaN</td>\n",
       "    </tr>\n",
       "    <tr>\n",
       "      <th>3</th>\n",
       "      <td>NaN</td>\n",
       "      <td>582561</td>\n",
       "      <td>1</td>\n",
       "      <td>2025-05-06 08:04:46</td>\n",
       "      <td>2025-05-06 08:22:13</td>\n",
       "      <td>NaN</td>\n",
       "      <td>NaN</td>\n",
       "      <td>8008 (SGD Serviceloket)</td>\n",
       "      <td>95121 (Jordy Cruz)</td>\n",
       "      <td>NaN</td>\n",
       "      <td>...</td>\n",
       "      <td>NaN</td>\n",
       "      <td>NaN</td>\n",
       "      <td>NaN</td>\n",
       "      <td>NaN</td>\n",
       "      <td>NaN</td>\n",
       "      <td>NaN</td>\n",
       "      <td>NaN</td>\n",
       "      <td>NaN</td>\n",
       "      <td>NaN</td>\n",
       "      <td>NaN</td>\n",
       "    </tr>\n",
       "    <tr>\n",
       "      <th>4</th>\n",
       "      <td>NaN</td>\n",
       "      <td>582544</td>\n",
       "      <td>1</td>\n",
       "      <td>2025-05-06 08:05:10</td>\n",
       "      <td>2025-05-06 08:14:30</td>\n",
       "      <td>0639621473</td>\n",
       "      <td>101 (Vodafone01)</td>\n",
       "      <td>8008 (SGD Serviceloket)</td>\n",
       "      <td>95120 (Laurens Brand)</td>\n",
       "      <td>NaN</td>\n",
       "      <td>...</td>\n",
       "      <td>NaN</td>\n",
       "      <td>NaN</td>\n",
       "      <td>NaN</td>\n",
       "      <td>NaN</td>\n",
       "      <td>NaN</td>\n",
       "      <td>NaN</td>\n",
       "      <td>NaN</td>\n",
       "      <td>NaN</td>\n",
       "      <td>NaN</td>\n",
       "      <td>NaN</td>\n",
       "    </tr>\n",
       "  </tbody>\n",
       "</table>\n",
       "<p>5 rows × 83 columns</p>\n",
       "</div>"
      ],
      "text/plain": [
       "   Unnamed: 0  CallId  Segment                Start                 Stop  \\\n",
       "0         NaN  582539        1  2025-05-06 08:00:33  2025-05-06 08:12:07   \n",
       "1         NaN  582524        1  2025-05-06 08:01:02  2025-05-06 08:05:02   \n",
       "2         NaN  582547        1  2025-05-06 08:04:04  2025-05-06 08:16:12   \n",
       "3         NaN  582561        1  2025-05-06 08:04:46  2025-05-06 08:22:13   \n",
       "4         NaN  582544        1  2025-05-06 08:05:10  2025-05-06 08:14:30   \n",
       "\n",
       "            Calling Party       Trunk Group            Dialed Number  \\\n",
       "0  2807 (Astrid Nederlof)               NaN  8008 (SGD Serviceloket)   \n",
       "1              0620485126  101 (Vodafone01)  8008 (SGD Serviceloket)   \n",
       "2       7114 (Prya Bhola)               NaN  8008 (SGD Serviceloket)   \n",
       "3                     NaN               NaN  8008 (SGD Serviceloket)   \n",
       "4              0639621473  101 (Vodafone01)  8008 (SGD Serviceloket)   \n",
       "\n",
       "          Answered Agent Original Agent  ... Unnamed: 73 Unnamed: 74  \\\n",
       "0  95120 (Laurens Brand)            NaN  ...         NaN         NaN   \n",
       "1     95121 (Jordy Cruz)            NaN  ...         NaN         NaN   \n",
       "2   95022 (Yamani Mondt)            NaN  ...         NaN         NaN   \n",
       "3     95121 (Jordy Cruz)            NaN  ...         NaN         NaN   \n",
       "4  95120 (Laurens Brand)            NaN  ...         NaN         NaN   \n",
       "\n",
       "   Unnamed: 75 Unnamed: 76  Unnamed: 77  1.1  2.1  3.1  4.1  5.1  \n",
       "0          NaN         NaN          NaN  NaN  NaN  NaN  NaN  NaN  \n",
       "1          NaN         NaN          NaN  NaN  NaN  NaN  NaN  NaN  \n",
       "2          NaN         NaN          NaN  NaN  NaN  NaN  NaN  NaN  \n",
       "3          NaN         NaN          NaN  NaN  NaN  NaN  NaN  NaN  \n",
       "4          NaN         NaN          NaN  NaN  NaN  NaN  NaN  NaN  \n",
       "\n",
       "[5 rows x 83 columns]"
      ]
     },
     "execution_count": 33,
     "metadata": {},
     "output_type": "execute_result"
    }
   ],
   "source": [
    "test_df: DataFrame = pd.read_excel(os.path.join(INPUT_FOLDER, 'Week 1 -Mei.xlsx'), header=1)\n",
    "test_df.head()"
   ]
  },
  {
   "cell_type": "markdown",
   "id": "8def5462",
   "metadata": {},
   "source": [
    "### test filter unused columns"
   ]
  },
  {
   "cell_type": "code",
   "execution_count": 34,
   "id": "c5c5df83",
   "metadata": {},
   "outputs": [
    {
     "data": {
      "text/plain": [
       "Index([          'CallId',          'Segment',            'Start',\n",
       "                   'Stop',    'Calling Party',      'Trunk Group',\n",
       "          'Dialed Number',   'Answered Agent',   'Original Agent',\n",
       "       'Call Disposition',           'Vector',         'Priority',\n",
       "                  'Split',            'Level',           'System',\n",
       "                  'Queue',             'Ring',             'Talk',\n",
       "                   'Hold',              'ACW',          'Consult',\n",
       "            'Disposition',         'Duration',                  1,\n",
       "                        2,                  3,                  4,\n",
       "                        5,                  6,                  7,\n",
       "                        8,                  9,              '1.1',\n",
       "                    '2.1',              '3.1',              '4.1',\n",
       "                    '5.1'],\n",
       "      dtype='object')"
      ]
     },
     "execution_count": 34,
     "metadata": {},
     "output_type": "execute_result"
    }
   ],
   "source": [
    "test_df = filter_unused_columns(dataset=test_df)\n",
    "test_df.columns"
   ]
  },
  {
   "cell_type": "markdown",
   "id": "e20f6b7b",
   "metadata": {},
   "source": [
    "### test set datetime dtype"
   ]
  },
  {
   "cell_type": "code",
   "execution_count": 35,
   "id": "3b7d9571",
   "metadata": {},
   "outputs": [
    {
     "name": "stdout",
     "output_type": "stream",
     "text": [
      "2025-05-06 08:00:33 <class 'str'>\n"
     ]
    }
   ],
   "source": [
    "test_value = test_df[\"Start\"][0]\n",
    "print(test_value, type(test_value))"
   ]
  },
  {
   "cell_type": "code",
   "execution_count": 36,
   "id": "ac48c0f5",
   "metadata": {},
   "outputs": [],
   "source": [
    "test_df = set_datetime_dtype_values(test_df, columns=['Start'])"
   ]
  },
  {
   "cell_type": "code",
   "execution_count": 37,
   "id": "081488dc",
   "metadata": {},
   "outputs": [
    {
     "name": "stdout",
     "output_type": "stream",
     "text": [
      "2025-05-06 08:00:33 <class 'pandas._libs.tslibs.timestamps.Timestamp'>\n"
     ]
    }
   ],
   "source": [
    "test_value = test_df[\"Start\"][0]\n",
    "print(test_value, type(test_value))"
   ]
  },
  {
   "cell_type": "markdown",
   "id": "585c88bb",
   "metadata": {},
   "source": [
    "### test timestring to seconds"
   ]
  },
  {
   "cell_type": "code",
   "execution_count": 38,
   "id": "0e3d3dea",
   "metadata": {},
   "outputs": [
    {
     "name": "stdout",
     "output_type": "stream",
     "text": [
      "00:00:59 <class 'str'>\n"
     ]
    }
   ],
   "source": [
    "test_value = test_df['System'][0]\n",
    "print(test_value, type(test_value))"
   ]
  },
  {
   "cell_type": "code",
   "execution_count": 39,
   "id": "74d951ab",
   "metadata": {},
   "outputs": [
    {
     "data": {
      "text/plain": [
       "datetime.timedelta(seconds=59)"
      ]
     },
     "execution_count": 39,
     "metadata": {},
     "output_type": "execute_result"
    }
   ],
   "source": [
    "result = timedelta_from_string(test_value)\n",
    "result"
   ]
  },
  {
   "cell_type": "code",
   "execution_count": 40,
   "id": "f1491927",
   "metadata": {},
   "outputs": [],
   "source": [
    "test_df = timestring_to_seconds(test_df, ['System'])"
   ]
  },
  {
   "cell_type": "code",
   "execution_count": 41,
   "id": "1ff0833f",
   "metadata": {},
   "outputs": [
    {
     "name": "stdout",
     "output_type": "stream",
     "text": [
      "0 days 00:00:59 <class 'pandas._libs.tslibs.timedeltas.Timedelta'>\n"
     ]
    }
   ],
   "source": [
    "test_value = test_df['System'][0]\n",
    "print(test_value, type(test_value))"
   ]
  },
  {
   "cell_type": "markdown",
   "id": "dd5ad0e9",
   "metadata": {},
   "source": [
    "### test avg calculations"
   ]
  },
  {
   "cell_type": "code",
   "execution_count": 42,
   "id": "9f23278c",
   "metadata": {},
   "outputs": [
    {
     "ename": "TypeError",
     "evalue": "strptime() argument 1 must be str, not Timedelta",
     "output_type": "error",
     "traceback": [
      "\u001b[31m---------------------------------------------------------------------------\u001b[39m",
      "\u001b[31mTypeError\u001b[39m                                 Traceback (most recent call last)",
      "\u001b[36mCell\u001b[39m\u001b[36m \u001b[39m\u001b[32mIn[42]\u001b[39m\u001b[32m, line 1\u001b[39m\n\u001b[32m----> \u001b[39m\u001b[32m1\u001b[39m test_df = \u001b[43mtimestring_to_seconds\u001b[49m\u001b[43m(\u001b[49m\u001b[43mtest_df\u001b[49m\u001b[43m,\u001b[49m\u001b[43m \u001b[49m\u001b[43mtime_columns\u001b[49m\u001b[43m)\u001b[49m\n\u001b[32m      2\u001b[39m avg_reaction_time: timedelta = get_avg_time(test_df, columns=[\u001b[33m'\u001b[39m\u001b[33mSystem\u001b[39m\u001b[33m'\u001b[39m, \u001b[33m'\u001b[39m\u001b[33mQueue\u001b[39m\u001b[33m'\u001b[39m, \u001b[33m'\u001b[39m\u001b[33mRing\u001b[39m\u001b[33m'\u001b[39m])\n\u001b[32m      3\u001b[39m avg_reaction_time\n",
      "\u001b[36mCell\u001b[39m\u001b[36m \u001b[39m\u001b[32mIn[31]\u001b[39m\u001b[32m, line 6\u001b[39m, in \u001b[36mtimestring_to_seconds\u001b[39m\u001b[34m(dataset, columns)\u001b[39m\n\u001b[32m      2\u001b[39m \u001b[38;5;250m\u001b[39m\u001b[33;03m\"\"\"\u001b[39;00m\n\u001b[32m      3\u001b[39m \n\u001b[32m      4\u001b[39m \u001b[33;03m\"\"\"\u001b[39;00m\n\u001b[32m      5\u001b[39m \u001b[38;5;28;01mfor\u001b[39;00m col_name \u001b[38;5;129;01min\u001b[39;00m columns:\n\u001b[32m----> \u001b[39m\u001b[32m6\u001b[39m     dataset[col_name] = \u001b[43mdataset\u001b[49m\u001b[43m[\u001b[49m\u001b[43mcol_name\u001b[49m\u001b[43m]\u001b[49m\u001b[43m.\u001b[49m\u001b[43mmap\u001b[49m\u001b[43m(\u001b[49m\u001b[38;5;28;43;01mlambda\u001b[39;49;00m\u001b[43m \u001b[49m\u001b[43mtimestring\u001b[49m\u001b[43m:\u001b[49m\u001b[43m \u001b[49m\u001b[43mtimedelta_from_string\u001b[49m\u001b[43m(\u001b[49m\u001b[43mtimestring\u001b[49m\u001b[43m)\u001b[49m\u001b[43m)\u001b[49m\n\u001b[32m      8\u001b[39m \u001b[38;5;28;01mreturn\u001b[39;00m dataset\n",
      "\u001b[36mFile \u001b[39m\u001b[32m~\\AppData\\Local\\Packages\\PythonSoftwareFoundation.Python.3.12_qbz5n2kfra8p0\\LocalCache\\local-packages\\Python312\\site-packages\\pandas\\core\\series.py:4711\u001b[39m, in \u001b[36mSeries.map\u001b[39m\u001b[34m(self, arg, na_action)\u001b[39m\n\u001b[32m   4631\u001b[39m \u001b[38;5;28;01mdef\u001b[39;00m\u001b[38;5;250m \u001b[39m\u001b[34mmap\u001b[39m(\n\u001b[32m   4632\u001b[39m     \u001b[38;5;28mself\u001b[39m,\n\u001b[32m   4633\u001b[39m     arg: Callable | Mapping | Series,\n\u001b[32m   4634\u001b[39m     na_action: Literal[\u001b[33m\"\u001b[39m\u001b[33mignore\u001b[39m\u001b[33m\"\u001b[39m] | \u001b[38;5;28;01mNone\u001b[39;00m = \u001b[38;5;28;01mNone\u001b[39;00m,\n\u001b[32m   4635\u001b[39m ) -> Series:\n\u001b[32m   4636\u001b[39m \u001b[38;5;250m    \u001b[39m\u001b[33;03m\"\"\"\u001b[39;00m\n\u001b[32m   4637\u001b[39m \u001b[33;03m    Map values of Series according to an input mapping or function.\u001b[39;00m\n\u001b[32m   4638\u001b[39m \n\u001b[32m   (...)\u001b[39m\u001b[32m   4709\u001b[39m \u001b[33;03m    dtype: object\u001b[39;00m\n\u001b[32m   4710\u001b[39m \u001b[33;03m    \"\"\"\u001b[39;00m\n\u001b[32m-> \u001b[39m\u001b[32m4711\u001b[39m     new_values = \u001b[38;5;28;43mself\u001b[39;49m\u001b[43m.\u001b[49m\u001b[43m_map_values\u001b[49m\u001b[43m(\u001b[49m\u001b[43marg\u001b[49m\u001b[43m,\u001b[49m\u001b[43m \u001b[49m\u001b[43mna_action\u001b[49m\u001b[43m=\u001b[49m\u001b[43mna_action\u001b[49m\u001b[43m)\u001b[49m\n\u001b[32m   4712\u001b[39m     \u001b[38;5;28;01mreturn\u001b[39;00m \u001b[38;5;28mself\u001b[39m._constructor(new_values, index=\u001b[38;5;28mself\u001b[39m.index, copy=\u001b[38;5;28;01mFalse\u001b[39;00m).__finalize__(\n\u001b[32m   4713\u001b[39m         \u001b[38;5;28mself\u001b[39m, method=\u001b[33m\"\u001b[39m\u001b[33mmap\u001b[39m\u001b[33m\"\u001b[39m\n\u001b[32m   4714\u001b[39m     )\n",
      "\u001b[36mFile \u001b[39m\u001b[32m~\\AppData\\Local\\Packages\\PythonSoftwareFoundation.Python.3.12_qbz5n2kfra8p0\\LocalCache\\local-packages\\Python312\\site-packages\\pandas\\core\\base.py:923\u001b[39m, in \u001b[36mIndexOpsMixin._map_values\u001b[39m\u001b[34m(self, mapper, na_action, convert)\u001b[39m\n\u001b[32m    920\u001b[39m arr = \u001b[38;5;28mself\u001b[39m._values\n\u001b[32m    922\u001b[39m \u001b[38;5;28;01mif\u001b[39;00m \u001b[38;5;28misinstance\u001b[39m(arr, ExtensionArray):\n\u001b[32m--> \u001b[39m\u001b[32m923\u001b[39m     \u001b[38;5;28;01mreturn\u001b[39;00m \u001b[43marr\u001b[49m\u001b[43m.\u001b[49m\u001b[43mmap\u001b[49m\u001b[43m(\u001b[49m\u001b[43mmapper\u001b[49m\u001b[43m,\u001b[49m\u001b[43m \u001b[49m\u001b[43mna_action\u001b[49m\u001b[43m=\u001b[49m\u001b[43mna_action\u001b[49m\u001b[43m)\u001b[49m\n\u001b[32m    925\u001b[39m \u001b[38;5;28;01mreturn\u001b[39;00m algorithms.map_array(arr, mapper, na_action=na_action, convert=convert)\n",
      "\u001b[36mFile \u001b[39m\u001b[32m~\\AppData\\Local\\Packages\\PythonSoftwareFoundation.Python.3.12_qbz5n2kfra8p0\\LocalCache\\local-packages\\Python312\\site-packages\\pandas\\core\\arrays\\_mixins.py:81\u001b[39m, in \u001b[36mravel_compat.<locals>.method\u001b[39m\u001b[34m(self, *args, **kwargs)\u001b[39m\n\u001b[32m     78\u001b[39m \u001b[38;5;129m@wraps\u001b[39m(meth)\n\u001b[32m     79\u001b[39m \u001b[38;5;28;01mdef\u001b[39;00m\u001b[38;5;250m \u001b[39m\u001b[34mmethod\u001b[39m(\u001b[38;5;28mself\u001b[39m, *args, **kwargs):\n\u001b[32m     80\u001b[39m     \u001b[38;5;28;01mif\u001b[39;00m \u001b[38;5;28mself\u001b[39m.ndim == \u001b[32m1\u001b[39m:\n\u001b[32m---> \u001b[39m\u001b[32m81\u001b[39m         \u001b[38;5;28;01mreturn\u001b[39;00m \u001b[43mmeth\u001b[49m\u001b[43m(\u001b[49m\u001b[38;5;28;43mself\u001b[39;49m\u001b[43m,\u001b[49m\u001b[43m \u001b[49m\u001b[43m*\u001b[49m\u001b[43margs\u001b[49m\u001b[43m,\u001b[49m\u001b[43m \u001b[49m\u001b[43m*\u001b[49m\u001b[43m*\u001b[49m\u001b[43mkwargs\u001b[49m\u001b[43m)\u001b[49m\n\u001b[32m     83\u001b[39m     flags = \u001b[38;5;28mself\u001b[39m._ndarray.flags\n\u001b[32m     84\u001b[39m     flat = \u001b[38;5;28mself\u001b[39m.ravel(\u001b[33m\"\u001b[39m\u001b[33mK\u001b[39m\u001b[33m\"\u001b[39m)\n",
      "\u001b[36mFile \u001b[39m\u001b[32m~\\AppData\\Local\\Packages\\PythonSoftwareFoundation.Python.3.12_qbz5n2kfra8p0\\LocalCache\\local-packages\\Python312\\site-packages\\pandas\\core\\arrays\\datetimelike.py:763\u001b[39m, in \u001b[36mDatetimeLikeArrayMixin.map\u001b[39m\u001b[34m(self, mapper, na_action)\u001b[39m\n\u001b[32m    759\u001b[39m \u001b[38;5;129m@ravel_compat\u001b[39m\n\u001b[32m    760\u001b[39m \u001b[38;5;28;01mdef\u001b[39;00m\u001b[38;5;250m \u001b[39m\u001b[34mmap\u001b[39m(\u001b[38;5;28mself\u001b[39m, mapper, na_action=\u001b[38;5;28;01mNone\u001b[39;00m):\n\u001b[32m    761\u001b[39m     \u001b[38;5;28;01mfrom\u001b[39;00m\u001b[38;5;250m \u001b[39m\u001b[34;01mpandas\u001b[39;00m\u001b[38;5;250m \u001b[39m\u001b[38;5;28;01mimport\u001b[39;00m Index\n\u001b[32m--> \u001b[39m\u001b[32m763\u001b[39m     result = \u001b[43mmap_array\u001b[49m\u001b[43m(\u001b[49m\u001b[38;5;28;43mself\u001b[39;49m\u001b[43m,\u001b[49m\u001b[43m \u001b[49m\u001b[43mmapper\u001b[49m\u001b[43m,\u001b[49m\u001b[43m \u001b[49m\u001b[43mna_action\u001b[49m\u001b[43m=\u001b[49m\u001b[43mna_action\u001b[49m\u001b[43m)\u001b[49m\n\u001b[32m    764\u001b[39m     result = Index(result)\n\u001b[32m    766\u001b[39m     \u001b[38;5;28;01mif\u001b[39;00m \u001b[38;5;28misinstance\u001b[39m(result, ABCMultiIndex):\n",
      "\u001b[36mFile \u001b[39m\u001b[32m~\\AppData\\Local\\Packages\\PythonSoftwareFoundation.Python.3.12_qbz5n2kfra8p0\\LocalCache\\local-packages\\Python312\\site-packages\\pandas\\core\\algorithms.py:1743\u001b[39m, in \u001b[36mmap_array\u001b[39m\u001b[34m(arr, mapper, na_action, convert)\u001b[39m\n\u001b[32m   1741\u001b[39m values = arr.astype(\u001b[38;5;28mobject\u001b[39m, copy=\u001b[38;5;28;01mFalse\u001b[39;00m)\n\u001b[32m   1742\u001b[39m \u001b[38;5;28;01mif\u001b[39;00m na_action \u001b[38;5;129;01mis\u001b[39;00m \u001b[38;5;28;01mNone\u001b[39;00m:\n\u001b[32m-> \u001b[39m\u001b[32m1743\u001b[39m     \u001b[38;5;28;01mreturn\u001b[39;00m \u001b[43mlib\u001b[49m\u001b[43m.\u001b[49m\u001b[43mmap_infer\u001b[49m\u001b[43m(\u001b[49m\u001b[43mvalues\u001b[49m\u001b[43m,\u001b[49m\u001b[43m \u001b[49m\u001b[43mmapper\u001b[49m\u001b[43m,\u001b[49m\u001b[43m \u001b[49m\u001b[43mconvert\u001b[49m\u001b[43m=\u001b[49m\u001b[43mconvert\u001b[49m\u001b[43m)\u001b[49m\n\u001b[32m   1744\u001b[39m \u001b[38;5;28;01melse\u001b[39;00m:\n\u001b[32m   1745\u001b[39m     \u001b[38;5;28;01mreturn\u001b[39;00m lib.map_infer_mask(\n\u001b[32m   1746\u001b[39m         values, mapper, mask=isna(values).view(np.uint8), convert=convert\n\u001b[32m   1747\u001b[39m     )\n",
      "\u001b[36mFile \u001b[39m\u001b[32mpandas/_libs/lib.pyx:2999\u001b[39m, in \u001b[36mpandas._libs.lib.map_infer\u001b[39m\u001b[34m()\u001b[39m\n",
      "\u001b[36mCell\u001b[39m\u001b[36m \u001b[39m\u001b[32mIn[31]\u001b[39m\u001b[32m, line 6\u001b[39m, in \u001b[36mtimestring_to_seconds.<locals>.<lambda>\u001b[39m\u001b[34m(timestring)\u001b[39m\n\u001b[32m      2\u001b[39m \u001b[38;5;250m\u001b[39m\u001b[33;03m\"\"\"\u001b[39;00m\n\u001b[32m      3\u001b[39m \n\u001b[32m      4\u001b[39m \u001b[33;03m\"\"\"\u001b[39;00m\n\u001b[32m      5\u001b[39m \u001b[38;5;28;01mfor\u001b[39;00m col_name \u001b[38;5;129;01min\u001b[39;00m columns:\n\u001b[32m----> \u001b[39m\u001b[32m6\u001b[39m     dataset[col_name] = dataset[col_name].map(\u001b[38;5;28;01mlambda\u001b[39;00m timestring: \u001b[43mtimedelta_from_string\u001b[49m\u001b[43m(\u001b[49m\u001b[43mtimestring\u001b[49m\u001b[43m)\u001b[49m)\n\u001b[32m      8\u001b[39m \u001b[38;5;28;01mreturn\u001b[39;00m dataset\n",
      "\u001b[36mCell\u001b[39m\u001b[36m \u001b[39m\u001b[32mIn[30]\u001b[39m\u001b[32m, line 5\u001b[39m, in \u001b[36mtimedelta_from_string\u001b[39m\u001b[34m(timestring)\u001b[39m\n\u001b[32m      1\u001b[39m \u001b[38;5;28;01mdef\u001b[39;00m\u001b[38;5;250m \u001b[39m\u001b[34mtimedelta_from_string\u001b[39m(timestring: \u001b[38;5;28mstr\u001b[39m) -> timedelta:\n\u001b[32m      2\u001b[39m \u001b[38;5;250m    \u001b[39m\u001b[33;03m\"\"\"\u001b[39;00m\n\u001b[32m      3\u001b[39m \n\u001b[32m      4\u001b[39m \u001b[33;03m    \"\"\"\u001b[39;00m\n\u001b[32m----> \u001b[39m\u001b[32m5\u001b[39m     time_obj = \u001b[43mdatetime\u001b[49m\u001b[43m.\u001b[49m\u001b[43mstrptime\u001b[49m\u001b[43m(\u001b[49m\u001b[43mtimestring\u001b[49m\u001b[43m,\u001b[49m\u001b[33;43m\"\u001b[39;49m\u001b[33;43m%\u001b[39;49m\u001b[33;43mH:\u001b[39;49m\u001b[33;43m%\u001b[39;49m\u001b[33;43mM:\u001b[39;49m\u001b[33;43m%\u001b[39;49m\u001b[33;43mS\u001b[39;49m\u001b[33;43m\"\u001b[39;49m\u001b[43m)\u001b[49m\n\u001b[32m      6\u001b[39m     timedelta_obj: timedelta = timedelta(hours=time_obj.hour, minutes=time_obj.minute, seconds=time_obj.second)\n\u001b[32m      7\u001b[39m     \u001b[38;5;28;01mreturn\u001b[39;00m timedelta_obj\n",
      "\u001b[31mTypeError\u001b[39m: strptime() argument 1 must be str, not Timedelta"
     ]
    }
   ],
   "source": [
    "test_df = timestring_to_seconds(test_df, time_columns)\n",
    "avg_reaction_time: timedelta = get_avg_time(test_df, columns=['System', 'Queue', 'Ring'])\n",
    "avg_reaction_time"
   ]
  }
 ],
 "metadata": {
  "kernelspec": {
   "display_name": "Python 3",
   "language": "python",
   "name": "python3"
  },
  "language_info": {
   "codemirror_mode": {
    "name": "ipython",
    "version": 3
   },
   "file_extension": ".py",
   "mimetype": "text/x-python",
   "name": "python",
   "nbconvert_exporter": "python",
   "pygments_lexer": "ipython3",
   "version": "3.12.10"
  }
 },
 "nbformat": 4,
 "nbformat_minor": 5
}

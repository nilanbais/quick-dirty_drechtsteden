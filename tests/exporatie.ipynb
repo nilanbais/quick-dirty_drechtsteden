{
 "cells": [
  {
   "cell_type": "code",
   "execution_count": null,
   "id": "c7314581",
   "metadata": {},
   "outputs": [],
   "source": [
    "import os\n",
    "import pandas as pd\n",
    "\n",
    "from pandas import DataFrame\n",
    "from typing import List\n",
    "\n",
    "from dotenv import load_dotenv\n",
    "\n",
    "load_dotenv()"
   ]
  },
  {
   "cell_type": "code",
   "execution_count": null,
   "id": "95648f31",
   "metadata": {},
   "outputs": [],
   "source": [
    "INPUT_FOLDER: str = os.getenv('INPUT_FOLDER_PATH')\n",
    "print(INPUT_FOLDER)"
   ]
  },
  {
   "cell_type": "code",
   "execution_count": null,
   "id": "7c1998fe",
   "metadata": {},
   "outputs": [],
   "source": [
    "os.listdir(INPUT_FOLDER)"
   ]
  },
  {
   "cell_type": "code",
   "execution_count": null,
   "id": "a5f55b07",
   "metadata": {},
   "outputs": [],
   "source": [
    "test_df: DataFrame = pd.read_excel(os.path.join(INPUT_FOLDER, 'Week 1 -Mei.xlsx'), header=1)\n",
    "test_df.head()"
   ]
  },
  {
   "cell_type": "code",
   "execution_count": null,
   "id": "c5c5df83",
   "metadata": {},
   "outputs": [],
   "source": [
    "test_df.columns\n",
    "type(test_df.columns)"
   ]
  },
  {
   "cell_type": "code",
   "execution_count": null,
   "id": "c1d2b966",
   "metadata": {},
   "outputs": [],
   "source": [
    "def summarize_unused_columns(dataset_column_index: pd.core.indexes.base.Index) -> List[str]:\n",
    "   \"\"\"\n",
    "   \n",
    "   \"\"\"\n",
    "   unused_column_names: List[str] = [col_name for col_name in dataset_column_index if 'unnamed' in str(col_name).lower()]\n",
    "   return unused_column_names"
   ]
  },
  {
   "cell_type": "code",
   "execution_count": null,
   "id": "8ff4e3e0",
   "metadata": {},
   "outputs": [],
   "source": [
    "def clean_input_dataset(dataset: DataFrame) -> DataFrame:\n",
    "    \"\"\"\n",
    "    \n",
    "    \"\"\"\n",
    "    input_dataset: DataFrame = dataset.copy()\n",
    "    unused_column_names: List[str] = summarize_unused_columns(dataset.columns)\n",
    "    clean_df: DataFrame = input_dataset.drop(labels=unused_column_names, axis='columns')\n",
    "    return clean_df\n",
    "\n",
    "clean_input_dataset(dataset=test_df)"
   ]
  },
  {
   "cell_type": "code",
   "execution_count": null,
   "id": "3b7d9571",
   "metadata": {},
   "outputs": [],
   "source": []
  }
 ],
 "metadata": {
  "kernelspec": {
   "display_name": "Python 3",
   "language": "python",
   "name": "python3"
  },
  "language_info": {
   "codemirror_mode": {
    "name": "ipython",
    "version": 3
   },
   "file_extension": ".py",
   "mimetype": "text/x-python",
   "name": "python",
   "nbconvert_exporter": "python",
   "pygments_lexer": "ipython3",
   "version": "3.12.10"
  }
 },
 "nbformat": 4,
 "nbformat_minor": 5
}
